{
 "cells": [
  {
   "cell_type": "markdown",
   "metadata": {},
   "source": [
    "#怎么实现将字符串转换为了变量名这个暂时没有看懂\n",
    "#table的方法\n",
    ">* __init__(self)\n",
    ">>构造一条空的列表，这个地方不能用元组，因为会不断的添加\n",
    ">* __len__(self)\n",
    ">>返回记录的长度\n",
    ">* ReadFile(self,data_dir,filename,fields,constructor,n=None)\n",
    ">>读取压缩的数据文件，并将每一条记录编译为一条对象\n",
    ">>参数\n",
    ">>>data_dir 目录名\n",
    ">>>filename 文件名\n",
    ">>>fields   字段的元组(name, start, end, case)\n",
    ">>>contrunctor 创建一个什么样的对象\n",
    ">>>这个为什么能创建可以参考下面的  \n",
    "class demo:\n",
    ">def f1(a,b):\n",
    ">>       print(type(a),type(b),b)\n",
    ">>       print(\"hello word\")  \n",
    "def f2(a):  \n",
    ">>       c=a();  \n",
    ">>       c.f1(1);  \n",
    ">f2(demo)    \n"
   ]
  },
  {
   "cell_type": "code",
   "execution_count": 15,
   "metadata": {
    "collapsed": false
   },
   "outputs": [],
   "source": [
    "import survey\n",
    "rsp=survey.Respondents()"
   ]
  },
  {
   "cell_type": "code",
   "execution_count": 16,
   "metadata": {
    "collapsed": false
   },
   "outputs": [],
   "source": [
    "rsp.ReadRecords(\".\")"
   ]
  },
  {
   "cell_type": "code",
   "execution_count": 25,
   "metadata": {
    "collapsed": false
   },
   "outputs": [],
   "source": [
    "table=survey.Pregnancies()\n",
    "table.ReadRecords()"
   ]
  },
  {
   "cell_type": "code",
   "execution_count": 26,
   "metadata": {
    "collapsed": false
   },
   "outputs": [
    {
     "data": {
      "text/plain": [
       "13593"
      ]
     },
     "execution_count": 26,
     "metadata": {},
     "output_type": "execute_result"
    }
   ],
   "source": [
    "len(preg.records)"
   ]
  },
  {
   "cell_type": "code",
   "execution_count": 28,
   "metadata": {
    "collapsed": false
   },
   "outputs": [],
   "source": [
    "a,b=PartitionRecords(table)"
   ]
  },
  {
   "cell_type": "code",
   "execution_count": 311,
   "metadata": {
    "collapsed": false
   },
   "outputs": [
    {
     "data": {
      "text/plain": [
       "['AddRecord',\n",
       " 'ExtendRecords',\n",
       " 'GetFields',\n",
       " 'GetFilename',\n",
       " 'MakeRecord',\n",
       " 'ReadFile',\n",
       " 'ReadRecords',\n",
       " 'Recode',\n",
       " '__class__',\n",
       " '__delattr__',\n",
       " '__dict__',\n",
       " '__dir__',\n",
       " '__doc__',\n",
       " '__eq__',\n",
       " '__format__',\n",
       " '__ge__',\n",
       " '__getattribute__',\n",
       " '__gt__',\n",
       " '__hash__',\n",
       " '__init__',\n",
       " '__le__',\n",
       " '__len__',\n",
       " '__lt__',\n",
       " '__module__',\n",
       " '__ne__',\n",
       " '__new__',\n",
       " '__reduce__',\n",
       " '__reduce_ex__',\n",
       " '__repr__',\n",
       " '__setattr__',\n",
       " '__sizeof__',\n",
       " '__str__',\n",
       " '__subclasshook__',\n",
       " '__weakref__',\n",
       " 'records']"
      ]
     },
     "execution_count": 311,
     "metadata": {},
     "output_type": "execute_result"
    }
   ],
   "source": [
    "i=0;\n",
    "t=table.records[2]\n",
    "type(table.records[2].caseid)\n",
    "dir(table.records[2])\n",
    "dir(table)\n"
   ]
  },
  {
   "cell_type": "code",
   "execution_count": 12,
   "metadata": {
    "collapsed": false
   },
   "outputs": [],
   "source": [
    "import survey"
   ]
  },
  {
   "cell_type": "code",
   "execution_count": 2,
   "metadata": {
    "collapsed": false
   },
   "outputs": [],
   "source": [
    "def Mean(t):\n",
    "    \"\"\"Computes the mean of a sequence of numbers.\n",
    "\n",
    "    Args:\n",
    "        t: sequence of numbers\n",
    "\n",
    "    Returns:\n",
    "        float\n",
    "    \"\"\"\n",
    "    return float(sum(t)) / len(t)"
   ]
  },
  {
   "cell_type": "code",
   "execution_count": 4,
   "metadata": {
    "collapsed": true
   },
   "outputs": [],
   "source": [
    "def PartitionRecords(table):\n",
    "    \"\"\"Divides records into two lists: first babies and others.\n",
    "\n",
    "    Only live births are included\n",
    "\n",
    "    Args:\n",
    "        table: pregnancy Table\n",
    "    \"\"\"\n",
    "    firsts = survey.Pregnancies()\n",
    "    others = survey.Pregnancies()\n",
    "\n",
    "    for p in table.records:\n",
    "        # skip non-live births\n",
    "        if p.outcome != 1:\n",
    "            continue\n",
    "\n",
    "        if p.birthord == 1:\n",
    "            firsts.AddRecord(p)\n",
    "        else:\n",
    "            others.AddRecord(p)\n",
    "\n",
    "    return firsts, others\n"
   ]
  },
  {
   "cell_type": "code",
   "execution_count": 6,
   "metadata": {
    "collapsed": true
   },
   "outputs": [],
   "source": [
    "def Process(table):\n",
    "    \"\"\"Runs analysis on the given table.\n",
    "    \n",
    "    Args:\n",
    "        table: table object\n",
    "    \"\"\"\n",
    "    table.lengths = [p.prglength for p in table.records]\n",
    "    table.n = len(table.lengths)\n",
    "    table.mu = Mean(table.lengths)"
   ]
  },
  {
   "cell_type": "code",
   "execution_count": 7,
   "metadata": {
    "collapsed": true
   },
   "outputs": [],
   "source": [
    "def MakeTables(data_dir='.'):\n",
    "    \"\"\"Reads survey data and returns tables for first babies and others.\"\"\"\n",
    "    table = survey.Pregnancies()\n",
    "    table.ReadRecords(data_dir)\n",
    "\n",
    "    firsts, others = PartitionRecords(table)\n",
    "    \n",
    "    return table, firsts, others"
   ]
  },
  {
   "cell_type": "code",
   "execution_count": 8,
   "metadata": {
    "collapsed": true
   },
   "outputs": [],
   "source": [
    "def ProcessTables(*tables):\n",
    "    \"\"\"Processes a list of tables\n",
    "    \n",
    "    Args:\n",
    "        tables: gathered argument tuple of Tuples\n",
    "    \"\"\"\n",
    "    for table in tables:\n",
    "        Process(table)\n",
    "        "
   ]
  },
  {
   "cell_type": "code",
   "execution_count": 9,
   "metadata": {
    "collapsed": true
   },
   "outputs": [],
   "source": [
    "def Summarize(data_dir):\n",
    "    \"\"\"Prints summary statistics for first babies and others.\n",
    "    \n",
    "    Returns:\n",
    "        tuple of Tables\n",
    "    \"\"\"\n",
    "    table, firsts, others = MakeTables(data_dir)\n",
    "    ProcessTables(firsts, others)\n",
    "\n",
    "    print('Number of first babies',firsts.n)\n",
    "    print('Number of others', others.n)\n",
    "\n",
    "    mu1, mu2 = firsts.mu, others.mu\n",
    "\n",
    "    print('Mean gestation in weeks:' )\n",
    "    print('First babies', mu1 )\n",
    "    print('Others', mu2)\n",
    "    \n",
    "    print('Difference in days', (mu1 - mu2) * 7.0)"
   ]
  },
  {
   "cell_type": "code",
   "execution_count": 13,
   "metadata": {
    "collapsed": false
   },
   "outputs": [
    {
     "name": "stdout",
     "output_type": "stream",
     "text": [
      "Number of first babies 4413\n",
      "Number of others 4735\n",
      "Mean gestation in weeks:\n",
      "First babies 38.60095173351461\n",
      "Others 38.52291446673706\n",
      "Difference in days 0.5462608674428466\n"
     ]
    }
   ],
   "source": [
    "Summarize('.')"
   ]
  }
 ],
 "metadata": {
  "kernelspec": {
   "display_name": "Python 3",
   "language": "python",
   "name": "python3"
  },
  "language_info": {
   "codemirror_mode": {
    "name": "ipython",
    "version": 3
   },
   "file_extension": ".py",
   "mimetype": "text/x-python",
   "name": "python",
   "nbconvert_exporter": "python",
   "pygments_lexer": "ipython3",
   "version": "3.4.3"
  }
 },
 "nbformat": 4,
 "nbformat_minor": 0
}
